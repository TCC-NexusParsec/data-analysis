{
  "cells": [
    {
      "cell_type": "markdown",
      "metadata": {
        "id": "view-in-github",
        "colab_type": "text"
      },
      "source": [
        "<a href=\"https://colab.research.google.com/github/TCC-NexusParsec/data-analysis/blob/main/dataset_analysis.ipynb\" target=\"_parent\"><img src=\"https://colab.research.google.com/assets/colab-badge.svg\" alt=\"Open In Colab\"/></a>"
      ]
    },
    {
      "cell_type": "markdown",
      "source": [
        "# GoogleDrive configs\n"
      ],
      "metadata": {
        "id": "L0x9U388FKVk"
      }
    },
    {
      "cell_type": "code",
      "source": [
        "!pip install geopandas"
      ],
      "metadata": {
        "colab": {
          "base_uri": "https://localhost:8080/"
        },
        "id": "f9FRbwQxFZHv",
        "outputId": "48ab3cbe-846e-4fc9-de28-be54a0eb4849"
      },
      "execution_count": 1,
      "outputs": [
        {
          "output_type": "stream",
          "name": "stdout",
          "text": [
            "Looking in indexes: https://pypi.org/simple, https://us-python.pkg.dev/colab-wheels/public/simple/\n",
            "Collecting geopandas\n",
            "  Downloading geopandas-0.10.2-py2.py3-none-any.whl (1.0 MB)\n",
            "\u001b[K     |████████████████████████████████| 1.0 MB 5.5 MB/s \n",
            "\u001b[?25hRequirement already satisfied: shapely>=1.6 in /usr/local/lib/python3.7/dist-packages (from geopandas) (1.8.4)\n",
            "Requirement already satisfied: pandas>=0.25.0 in /usr/local/lib/python3.7/dist-packages (from geopandas) (1.3.5)\n",
            "Collecting fiona>=1.8\n",
            "  Downloading Fiona-1.8.21-cp37-cp37m-manylinux2014_x86_64.whl (16.7 MB)\n",
            "\u001b[K     |████████████████████████████████| 16.7 MB 320 kB/s \n",
            "\u001b[?25hCollecting pyproj>=2.2.0\n",
            "  Downloading pyproj-3.2.1-cp37-cp37m-manylinux2010_x86_64.whl (6.3 MB)\n",
            "\u001b[K     |████████████████████████████████| 6.3 MB 38.8 MB/s \n",
            "\u001b[?25hRequirement already satisfied: attrs>=17 in /usr/local/lib/python3.7/dist-packages (from fiona>=1.8->geopandas) (22.1.0)\n",
            "Collecting click-plugins>=1.0\n",
            "  Downloading click_plugins-1.1.1-py2.py3-none-any.whl (7.5 kB)\n",
            "Requirement already satisfied: setuptools in /usr/local/lib/python3.7/dist-packages (from fiona>=1.8->geopandas) (57.4.0)\n",
            "Collecting munch\n",
            "  Downloading munch-2.5.0-py2.py3-none-any.whl (10 kB)\n",
            "Requirement already satisfied: click>=4.0 in /usr/local/lib/python3.7/dist-packages (from fiona>=1.8->geopandas) (7.1.2)\n",
            "Requirement already satisfied: certifi in /usr/local/lib/python3.7/dist-packages (from fiona>=1.8->geopandas) (2022.6.15)\n",
            "Requirement already satisfied: six>=1.7 in /usr/local/lib/python3.7/dist-packages (from fiona>=1.8->geopandas) (1.15.0)\n",
            "Collecting cligj>=0.5\n",
            "  Downloading cligj-0.7.2-py3-none-any.whl (7.1 kB)\n",
            "Requirement already satisfied: numpy>=1.17.3 in /usr/local/lib/python3.7/dist-packages (from pandas>=0.25.0->geopandas) (1.21.6)\n",
            "Requirement already satisfied: pytz>=2017.3 in /usr/local/lib/python3.7/dist-packages (from pandas>=0.25.0->geopandas) (2022.2.1)\n",
            "Requirement already satisfied: python-dateutil>=2.7.3 in /usr/local/lib/python3.7/dist-packages (from pandas>=0.25.0->geopandas) (2.8.2)\n",
            "Installing collected packages: munch, cligj, click-plugins, pyproj, fiona, geopandas\n",
            "Successfully installed click-plugins-1.1.1 cligj-0.7.2 fiona-1.8.21 geopandas-0.10.2 munch-2.5.0 pyproj-3.2.1\n"
          ]
        }
      ]
    },
    {
      "cell_type": "code",
      "source": [
        "from google.colab import drive\n",
        "drive.mount('/content/drive')"
      ],
      "metadata": {
        "colab": {
          "base_uri": "https://localhost:8080/"
        },
        "id": "kkSTsll0Ff05",
        "outputId": "270d9b51-7530-439d-c750-57d3e36d6198"
      },
      "execution_count": 2,
      "outputs": [
        {
          "output_type": "stream",
          "name": "stdout",
          "text": [
            "Mounted at /content/drive\n"
          ]
        }
      ]
    },
    {
      "cell_type": "code",
      "source": [
        "%cd drive/Shareddrives/'NEXUS-PARSEC - TCCs'/ProjetoRaf-Car-Igor/Datasets/indicadores_IDH_Nexus"
      ],
      "metadata": {
        "colab": {
          "base_uri": "https://localhost:8080/"
        },
        "id": "OlxtEM6JGJ9s",
        "outputId": "10e8a9f9-bf44-44e9-ec42-a5fded0c779e"
      },
      "execution_count": 3,
      "outputs": [
        {
          "output_type": "stream",
          "name": "stdout",
          "text": [
            "/content/drive/Shareddrives/NEXUS-PARSEC - TCCs/ProjetoRaf-Car-Igor/Datasets/indicadores_IDH_Nexus\n"
          ]
        }
      ]
    },
    {
      "cell_type": "code",
      "source": [
        "!ls *.csv"
      ],
      "metadata": {
        "colab": {
          "base_uri": "https://localhost:8080/"
        },
        "id": "UtdRX3LhGgO_",
        "outputId": "5a22a450-3ab1-42ac-c6d4-8d8f6a5db2f8"
      },
      "execution_count": 4,
      "outputs": [
        {
          "output_type": "stream",
          "name": "stdout",
          "text": [
            "IDH_2010.csv  SetoresNexus2010.csv\n"
          ]
        }
      ]
    },
    {
      "cell_type": "markdown",
      "source": [
        "# Dataset Analysis\n"
      ],
      "metadata": {
        "id": "bRPQ0a3sFUqu"
      }
    },
    {
      "cell_type": "code",
      "execution_count": null,
      "metadata": {
        "id": "N_Wk4U2AVDNK"
      },
      "outputs": [],
      "source": [
        "from shapely.geometry import shape, mapping, Point, Polygon\n",
        "import pandas as pd\n",
        "import numpy as np\n",
        "import geopandas as gpd\n",
        "import matplotlib.pyplot as plt\n",
        "\n",
        "from shapely.geometry import Point, Polygon, LineString\n",
        "from shapely.ops import transform\n",
        "from shapely.wkt import loads\n",
        "import pyproj\n",
        "\n",
        "import random\n",
        "import warnings\n",
        "warnings.simplefilter(action='ignore', category=FutureWarning)"
      ]
    },
    {
      "cell_type": "code",
      "execution_count": null,
      "metadata": {
        "id": "qiGzjCOBVDNO"
      },
      "outputs": [],
      "source": [
        "# DF_PATH = r\"C:\\ProjetoTCC\\IDH_2010.csv\"\n",
        "\n",
        "DF_PATH = r\"IDH_2010.csv\""
      ]
    },
    {
      "cell_type": "code",
      "execution_count": null,
      "metadata": {
        "id": "UszRDuK6VDNP"
      },
      "outputs": [],
      "source": [
        "df = pd.read_csv(DF_PATH, sep=\",\", quotechar='\"', encoding=\"iso-8859-1\")\n",
        "df[\"TIPO\"] = df[\"TIPO\"].replace(\"URBANO\", \"URBAN\") # Translate situation name to english"
      ]
    },
    {
      "cell_type": "code",
      "execution_count": null,
      "metadata": {
        "id": "2HzmS4wvVDNR",
        "outputId": "63b475d9-f610-48a2-b2dd-f7d59c2be7d5",
        "colab": {
          "base_uri": "https://localhost:8080/",
          "height": 548
        }
      },
      "outputs": [
        {
          "output_type": "execute_result",
          "data": {
            "text/plain": [
              "   Unnamed: 0  year        Cod_setor   TIPO  Cod_municipio  Cod_estado  \\\n",
              "0           0  2010  270010205000001  URBAN        2700102          27   \n",
              "1           1  2010  270010205000002  URBAN        2700102          27   \n",
              "2           2  2010  270010205000003  URBAN        2700102          27   \n",
              "3           3  2010  270010205000004  RURAL        2700102          27   \n",
              "4           4  2010  270010205000005  RURAL        2700102          27   \n",
              "\n",
              "     income  longevity  literacy  \\\n",
              "0  0.489286   0.733333  0.832084   \n",
              "1  0.512140   0.700000  0.856921   \n",
              "2  0.449489   0.616667  0.901785   \n",
              "3  0.466986   0.750000  0.829106   \n",
              "4  0.339322   0.700000  0.726252   \n",
              "\n",
              "                                                 WKT  \\\n",
              "0  MultiPolygon (((-4223968.81988941 -1036056.260...   \n",
              "1  MultiPolygon (((-4223374.68890432 -1034786.203...   \n",
              "2  MultiPolygon (((-4222960.21502364 -1035667.821...   \n",
              "3  MultiPolygon (((-4227742.5849558 -1036928.8185...   \n",
              "4  MultiPolygon (((-4227837.14715099 -1040636.072...   \n",
              "\n",
              "                                            geometry  \\\n",
              "0  MULTIPOLYGON (((-4223968.820 -1036056.260, -42...   \n",
              "1  MULTIPOLYGON (((-4223374.689 -1034786.204, -42...   \n",
              "2  MULTIPOLYGON (((-4222960.215 -1035667.821, -42...   \n",
              "3  MULTIPOLYGON (((-4227742.585 -1036928.819, -42...   \n",
              "4  MULTIPOLYGON (((-4227837.147 -1040636.072, -42...   \n",
              "\n",
              "                            centroid           lat           lon       area  \n",
              "0  POINT (-4223476.093 -1036018.684) -4.223476e+06 -1.036019e+06   0.314274  \n",
              "1  POINT (-4222745.980 -1034974.908) -4.222746e+06 -1.034975e+06   0.762000  \n",
              "2  POINT (-4222746.181 -1035927.768) -4.222746e+06 -1.035928e+06   0.173091  \n",
              "3  POINT (-4227554.348 -1037031.151) -4.227554e+06 -1.037031e+06   0.093654  \n",
              "4  POINT (-4226268.944 -1036419.984) -4.226269e+06 -1.036420e+06  13.984255  "
            ],
            "text/html": [
              "\n",
              "  <div id=\"df-fbe089b7-5a86-4f2e-b517-64441d72342c\">\n",
              "    <div class=\"colab-df-container\">\n",
              "      <div>\n",
              "<style scoped>\n",
              "    .dataframe tbody tr th:only-of-type {\n",
              "        vertical-align: middle;\n",
              "    }\n",
              "\n",
              "    .dataframe tbody tr th {\n",
              "        vertical-align: top;\n",
              "    }\n",
              "\n",
              "    .dataframe thead th {\n",
              "        text-align: right;\n",
              "    }\n",
              "</style>\n",
              "<table border=\"1\" class=\"dataframe\">\n",
              "  <thead>\n",
              "    <tr style=\"text-align: right;\">\n",
              "      <th></th>\n",
              "      <th>Unnamed: 0</th>\n",
              "      <th>year</th>\n",
              "      <th>Cod_setor</th>\n",
              "      <th>TIPO</th>\n",
              "      <th>Cod_municipio</th>\n",
              "      <th>Cod_estado</th>\n",
              "      <th>income</th>\n",
              "      <th>longevity</th>\n",
              "      <th>literacy</th>\n",
              "      <th>WKT</th>\n",
              "      <th>geometry</th>\n",
              "      <th>centroid</th>\n",
              "      <th>lat</th>\n",
              "      <th>lon</th>\n",
              "      <th>area</th>\n",
              "    </tr>\n",
              "  </thead>\n",
              "  <tbody>\n",
              "    <tr>\n",
              "      <th>0</th>\n",
              "      <td>0</td>\n",
              "      <td>2010</td>\n",
              "      <td>270010205000001</td>\n",
              "      <td>URBAN</td>\n",
              "      <td>2700102</td>\n",
              "      <td>27</td>\n",
              "      <td>0.489286</td>\n",
              "      <td>0.733333</td>\n",
              "      <td>0.832084</td>\n",
              "      <td>MultiPolygon (((-4223968.81988941 -1036056.260...</td>\n",
              "      <td>MULTIPOLYGON (((-4223968.820 -1036056.260, -42...</td>\n",
              "      <td>POINT (-4223476.093 -1036018.684)</td>\n",
              "      <td>-4.223476e+06</td>\n",
              "      <td>-1.036019e+06</td>\n",
              "      <td>0.314274</td>\n",
              "    </tr>\n",
              "    <tr>\n",
              "      <th>1</th>\n",
              "      <td>1</td>\n",
              "      <td>2010</td>\n",
              "      <td>270010205000002</td>\n",
              "      <td>URBAN</td>\n",
              "      <td>2700102</td>\n",
              "      <td>27</td>\n",
              "      <td>0.512140</td>\n",
              "      <td>0.700000</td>\n",
              "      <td>0.856921</td>\n",
              "      <td>MultiPolygon (((-4223374.68890432 -1034786.203...</td>\n",
              "      <td>MULTIPOLYGON (((-4223374.689 -1034786.204, -42...</td>\n",
              "      <td>POINT (-4222745.980 -1034974.908)</td>\n",
              "      <td>-4.222746e+06</td>\n",
              "      <td>-1.034975e+06</td>\n",
              "      <td>0.762000</td>\n",
              "    </tr>\n",
              "    <tr>\n",
              "      <th>2</th>\n",
              "      <td>2</td>\n",
              "      <td>2010</td>\n",
              "      <td>270010205000003</td>\n",
              "      <td>URBAN</td>\n",
              "      <td>2700102</td>\n",
              "      <td>27</td>\n",
              "      <td>0.449489</td>\n",
              "      <td>0.616667</td>\n",
              "      <td>0.901785</td>\n",
              "      <td>MultiPolygon (((-4222960.21502364 -1035667.821...</td>\n",
              "      <td>MULTIPOLYGON (((-4222960.215 -1035667.821, -42...</td>\n",
              "      <td>POINT (-4222746.181 -1035927.768)</td>\n",
              "      <td>-4.222746e+06</td>\n",
              "      <td>-1.035928e+06</td>\n",
              "      <td>0.173091</td>\n",
              "    </tr>\n",
              "    <tr>\n",
              "      <th>3</th>\n",
              "      <td>3</td>\n",
              "      <td>2010</td>\n",
              "      <td>270010205000004</td>\n",
              "      <td>RURAL</td>\n",
              "      <td>2700102</td>\n",
              "      <td>27</td>\n",
              "      <td>0.466986</td>\n",
              "      <td>0.750000</td>\n",
              "      <td>0.829106</td>\n",
              "      <td>MultiPolygon (((-4227742.5849558 -1036928.8185...</td>\n",
              "      <td>MULTIPOLYGON (((-4227742.585 -1036928.819, -42...</td>\n",
              "      <td>POINT (-4227554.348 -1037031.151)</td>\n",
              "      <td>-4.227554e+06</td>\n",
              "      <td>-1.037031e+06</td>\n",
              "      <td>0.093654</td>\n",
              "    </tr>\n",
              "    <tr>\n",
              "      <th>4</th>\n",
              "      <td>4</td>\n",
              "      <td>2010</td>\n",
              "      <td>270010205000005</td>\n",
              "      <td>RURAL</td>\n",
              "      <td>2700102</td>\n",
              "      <td>27</td>\n",
              "      <td>0.339322</td>\n",
              "      <td>0.700000</td>\n",
              "      <td>0.726252</td>\n",
              "      <td>MultiPolygon (((-4227837.14715099 -1040636.072...</td>\n",
              "      <td>MULTIPOLYGON (((-4227837.147 -1040636.072, -42...</td>\n",
              "      <td>POINT (-4226268.944 -1036419.984)</td>\n",
              "      <td>-4.226269e+06</td>\n",
              "      <td>-1.036420e+06</td>\n",
              "      <td>13.984255</td>\n",
              "    </tr>\n",
              "  </tbody>\n",
              "</table>\n",
              "</div>\n",
              "      <button class=\"colab-df-convert\" onclick=\"convertToInteractive('df-fbe089b7-5a86-4f2e-b517-64441d72342c')\"\n",
              "              title=\"Convert this dataframe to an interactive table.\"\n",
              "              style=\"display:none;\">\n",
              "        \n",
              "  <svg xmlns=\"http://www.w3.org/2000/svg\" height=\"24px\"viewBox=\"0 0 24 24\"\n",
              "       width=\"24px\">\n",
              "    <path d=\"M0 0h24v24H0V0z\" fill=\"none\"/>\n",
              "    <path d=\"M18.56 5.44l.94 2.06.94-2.06 2.06-.94-2.06-.94-.94-2.06-.94 2.06-2.06.94zm-11 1L8.5 8.5l.94-2.06 2.06-.94-2.06-.94L8.5 2.5l-.94 2.06-2.06.94zm10 10l.94 2.06.94-2.06 2.06-.94-2.06-.94-.94-2.06-.94 2.06-2.06.94z\"/><path d=\"M17.41 7.96l-1.37-1.37c-.4-.4-.92-.59-1.43-.59-.52 0-1.04.2-1.43.59L10.3 9.45l-7.72 7.72c-.78.78-.78 2.05 0 2.83L4 21.41c.39.39.9.59 1.41.59.51 0 1.02-.2 1.41-.59l7.78-7.78 2.81-2.81c.8-.78.8-2.07 0-2.86zM5.41 20L4 18.59l7.72-7.72 1.47 1.35L5.41 20z\"/>\n",
              "  </svg>\n",
              "      </button>\n",
              "      \n",
              "  <style>\n",
              "    .colab-df-container {\n",
              "      display:flex;\n",
              "      flex-wrap:wrap;\n",
              "      gap: 12px;\n",
              "    }\n",
              "\n",
              "    .colab-df-convert {\n",
              "      background-color: #E8F0FE;\n",
              "      border: none;\n",
              "      border-radius: 50%;\n",
              "      cursor: pointer;\n",
              "      display: none;\n",
              "      fill: #1967D2;\n",
              "      height: 32px;\n",
              "      padding: 0 0 0 0;\n",
              "      width: 32px;\n",
              "    }\n",
              "\n",
              "    .colab-df-convert:hover {\n",
              "      background-color: #E2EBFA;\n",
              "      box-shadow: 0px 1px 2px rgba(60, 64, 67, 0.3), 0px 1px 3px 1px rgba(60, 64, 67, 0.15);\n",
              "      fill: #174EA6;\n",
              "    }\n",
              "\n",
              "    [theme=dark] .colab-df-convert {\n",
              "      background-color: #3B4455;\n",
              "      fill: #D2E3FC;\n",
              "    }\n",
              "\n",
              "    [theme=dark] .colab-df-convert:hover {\n",
              "      background-color: #434B5C;\n",
              "      box-shadow: 0px 1px 3px 1px rgba(0, 0, 0, 0.15);\n",
              "      filter: drop-shadow(0px 1px 2px rgba(0, 0, 0, 0.3));\n",
              "      fill: #FFFFFF;\n",
              "    }\n",
              "  </style>\n",
              "\n",
              "      <script>\n",
              "        const buttonEl =\n",
              "          document.querySelector('#df-fbe089b7-5a86-4f2e-b517-64441d72342c button.colab-df-convert');\n",
              "        buttonEl.style.display =\n",
              "          google.colab.kernel.accessAllowed ? 'block' : 'none';\n",
              "\n",
              "        async function convertToInteractive(key) {\n",
              "          const element = document.querySelector('#df-fbe089b7-5a86-4f2e-b517-64441d72342c');\n",
              "          const dataTable =\n",
              "            await google.colab.kernel.invokeFunction('convertToInteractive',\n",
              "                                                     [key], {});\n",
              "          if (!dataTable) return;\n",
              "\n",
              "          const docLinkHtml = 'Like what you see? Visit the ' +\n",
              "            '<a target=\"_blank\" href=https://colab.research.google.com/notebooks/data_table.ipynb>data table notebook</a>'\n",
              "            + ' to learn more about interactive tables.';\n",
              "          element.innerHTML = '';\n",
              "          dataTable['output_type'] = 'display_data';\n",
              "          await google.colab.output.renderOutput(dataTable, element);\n",
              "          const docLink = document.createElement('div');\n",
              "          docLink.innerHTML = docLinkHtml;\n",
              "          element.appendChild(docLink);\n",
              "        }\n",
              "      </script>\n",
              "    </div>\n",
              "  </div>\n",
              "  "
            ]
          },
          "metadata": {},
          "execution_count": 8
        }
      ],
      "source": [
        "geo = gpd.GeoDataFrame(df, crs = 'epsg:3857', geometry=[loads(mpoly) for mpoly in df['WKT']])\n",
        "\n",
        "# geo = geo[~geo.is_empty] # Filtering dataframe for invalid values\n",
        "\n",
        "# For some reason, this is necessary\n",
        "geo = geo.to_crs(3857)\n",
        "\n",
        "geo['centroid'] = geo['geometry'].centroid.to_crs(epsg = 3857)\n",
        "# Extract lat and lon from the centerpoint\n",
        "geo[\"lat\"] = geo['centroid'].map(lambda p: p.x)\n",
        "geo[\"lon\"] = geo['centroid'].map(lambda p: p.y)\n",
        "\n",
        "geo[\"area\"] = geo[\"geometry\"].area\n",
        "geo[\"area\"] = geo[\"area\"]/1e6\n",
        "\n",
        "geo.head()"
      ]
    },
    {
      "cell_type": "markdown",
      "metadata": {
        "id": "g1QHpmL-VDNT"
      },
      "source": [
        "## General Routine:\n",
        "\n",
        "First, we will separate each municipality and then count how many sectors there are in each of them.\n",
        "We want to pick, for each municipality, only 25% of the geo sectors, keeping the balance of 50/50 between Rural and Urban sectors.\n",
        "If the balance is not possible, we only an amount of sectors that correspond to the situation with the less amount\n",
        "\n",
        "In the end, plot the selected sectors."
      ]
    },
    {
      "cell_type": "code",
      "execution_count": null,
      "metadata": {
        "id": "RAgg2RmVVDNV",
        "outputId": "19992a64-63f0-4735-e07f-9d759c313aae",
        "colab": {
          "base_uri": "https://localhost:8080/"
        }
      },
      "outputs": [
        {
          "output_type": "execute_result",
          "data": {
            "text/plain": [
              "Cod_municipio  TIPO \n",
              "1100304        URBAN      71\n",
              "               RURAL      21\n",
              "1502707        URBAN      44\n",
              "               RURAL      31\n",
              "1506583        RURAL      33\n",
              "                        ... \n",
              "5222203        URBAN       4\n",
              "5222302        RURAL      11\n",
              "               URBAN       2\n",
              "5300108        URBAN    4175\n",
              "               RURAL     279\n",
              "Name: TIPO, Length: 5011, dtype: int64"
            ]
          },
          "metadata": {},
          "execution_count": 9
        }
      ],
      "source": [
        "geo.groupby(\"Cod_municipio\")[\"TIPO\"].value_counts()"
      ]
    },
    {
      "cell_type": "markdown",
      "metadata": {
        "id": "JAl5ac9sVDNW"
      },
      "source": [
        "We split the dataset into two: one for URBAN and other for RURAL, then we check for each of municipality how many sectors are available and do the selection.\n",
        "\n",
        "When selecting, we need to make sure that we don't take neighboring sectors. If this is possible at a given municipality, we guarantee that we won't have overlapping images. Otherwise, we just ignore the overlap."
      ]
    },
    {
      "cell_type": "code",
      "execution_count": null,
      "metadata": {
        "id": "bG5yUUEdVDNc",
        "outputId": "c6755f55-3732-4f96-a05c-11be12db3c65",
        "colab": {
          "base_uri": "https://localhost:8080/"
        }
      },
      "outputs": [
        {
          "output_type": "execute_result",
          "data": {
            "text/plain": [
              "6.7"
            ]
          },
          "metadata": {},
          "execution_count": 10
        }
      ],
      "source": [
        "sqr_side = LineString([(0, 0), (6.7, 0)])\n",
        "\n",
        "wgs84 = pyproj.CRS('EPSG:4326')\n",
        "utm = pyproj.CRS('EPSG:3857')\n",
        "\n",
        "project = pyproj.Transformer.from_crs(wgs84, utm, always_xy=True).transform\n",
        "utm_point = transform(project, sqr_side)\n",
        "\n",
        "sqr_side.length"
      ]
    },
    {
      "cell_type": "code",
      "execution_count": null,
      "metadata": {
        "id": "Okk1pJ80VDNa"
      },
      "outputs": [],
      "source": [
        "def generate_centered_square_vertices(centroid, crs = \"EPSG:3857\", sqr_size = 6.7e3):\n",
        "    \"\"\"\n",
        "    Generate a square centered on centroid = centroid [Point(x,y)] with size = sqr_size, in meters.\n",
        "    Returns the square vertices.\n",
        "\n",
        "    \"\"\"\n",
        "    centroid = gpd.GeoDataFrame(geometry = gpd.GeoSeries(centroid, crs = crs))\n",
        "    # Conversion to a coordinate system in meters (EPSG:32634)\n",
        "    buffer = centroid.to_crs(\"EPSG:32634\").buffer(sqr_size, cap_style = 3) \n",
        "    buffer = buffer.to_crs(crs)\n",
        "\n",
        "    boundaries = buffer.bounds\n",
        "    p1 = Point((boundaries.minx, boundaries.miny)) # Bottom Left\n",
        "    p2 = Point((boundaries.maxx, boundaries.miny)) # Bottom Right\n",
        "    p3 = Point((boundaries.maxx, boundaries.maxy)) # Top Right\n",
        "    p4 = Point((boundaries.minx, boundaries.maxy)) # Top Left\n",
        "    vertices = [p1, p2, p3, p4]\n",
        "\n",
        "    return vertices\n",
        "\n",
        "\n",
        "def is_sector_inside_cluster(cluster, sector):\n",
        "    \"\"\"\n",
        "    Check if the sector centroid is inside the cluster.\n",
        "    \"\"\"\n",
        "    centroid = sector[\"centroid\"]\n",
        "    min_x = min([vertice.x for vertice in cluster])\n",
        "    max_x = max([vertice.x for vertice in cluster])\n",
        "    min_y = min([vertice.y for vertice in cluster])\n",
        "    max_y = max([vertice.y for vertice in cluster])\n",
        "    if centroid.x >= min_x and centroid.x <= max_x:\n",
        "        if centroid.y >= min_y and centroid.y <= max_y:\n",
        "            return True\n",
        "    return False\n",
        "\n",
        "\n",
        "def find_map_of_sectors(df_mun, selected_sector_code, cluster, clusters_by_internal_sectors):\n",
        "    \"\"\"\n",
        "    Generate a dictionary where keys are the Cod_setor of sectors that reside in\n",
        "    at least one cluster determined by df_selected_sectors and the value is a dictionary\n",
        "    that lists all the clusters where the sector resides.\n",
        "    \"\"\"\n",
        "    # TODO: this may be faster by mapping centroids with a function, creating a df of only sectors inside the cluster\n",
        "    for index, sector in df_mun.iterrows():\n",
        "        if is_sector_inside_cluster(cluster, sector):\n",
        "            clusters = clusters_by_internal_sectors.get(sector[\"Cod_setor\"], {})\n",
        "            clusters[selected_sector_code] = True\n",
        "            clusters_by_internal_sectors[sector[\"Cod_setor\"]] = clusters\n",
        "    return clusters_by_internal_sectors\n",
        "\n",
        "\n",
        "def map_clusters_by_internal_sectors(df_mun, df_selected_sectors):\n",
        "    \"\"\"\n",
        "    Find all sectors that reside in at least one cluster and return a dictionary\n",
        "    containing this information.\n",
        "    \"\"\"\n",
        "    clusters_by_internal_sectors = {}\n",
        "    for index, sector in df_selected_sectors.iterrows():\n",
        "        cluster = generate_centered_square_vertices(sector[\"centroid\"])\n",
        "        clusters_by_internal_sectors = find_map_of_sectors(df_mun, sector[\"Cod_setor\"], cluster, clusters_by_internal_sectors)\n",
        "    return clusters_by_internal_sectors\n",
        "\n",
        "\n",
        "def is_sector_overlapping(sector_code, clusters_by_internal_sectors):\n",
        "    \"\"\"\n",
        "    Check if a sector_code is inside 2 or more clusters\n",
        "    \"\"\"\n",
        "    try:\n",
        "        if len(clusters_by_internal_sectors[sector_code].keys()) > 1:\n",
        "          return True\n",
        "        return False\n",
        "    \n",
        "    # In case the key does not exist\n",
        "    except:\n",
        "      return False\n",
        "\n",
        "\n",
        "def find_sectors_overlapping(clusters_by_internal_sectors, df_mun):\n",
        "    \"\"\"\n",
        "    Check each sector inside the municipality, analyzing if it overlaps different clusters.\n",
        "    Return a list of sectors overlapping.\n",
        "    \"\"\"\n",
        "    sectors_overlapping = []\n",
        "    for index, sector in df_mun.iterrows():\n",
        "        if is_sector_overlapping(sector[\"Cod_setor\"], clusters_by_internal_sectors):\n",
        "            sectors_overlapping.append(sector) # TODO: fix this return to a better type, e.g. dataframe\n",
        "    return sectors_overlapping\n",
        "\n",
        "\n",
        "def evaluate_overlapping(df_mun, df_selected_sectors):\n",
        "    \"\"\"\n",
        "    Analyze clusters formed by the selected sectors by listing all sectors that reside\n",
        "    in those clusters and checking if they overlap.\n",
        "    \"\"\"\n",
        "    clusters_by_internal_sectors = map_clusters_by_internal_sectors(df_mun, df_selected_sectors)\n",
        "    sectors_overlapping = find_sectors_overlapping(clusters_by_internal_sectors, df_mun)\n",
        "    if not sectors_overlapping:\n",
        "      return False\n",
        "    return True\n",
        "\n",
        "\n",
        "def split_sectors_by_type(df_mun):\n",
        "    \"\"\"\n",
        "    Split municipality dataframe according to type (\"URBAN\" or \"RURAL\").\n",
        "    \"\"\"\n",
        "    df_mun_urban = df_mun[df_mun[\"TIPO\"] == \"URBAN\"]\n",
        "    df_mun_rural = df_mun[df_mun[\"TIPO\"] == \"RURAL\"]\n",
        "    return df_mun_urban, df_mun_rural\n",
        "\n",
        "\n",
        "def sample_municipality_sectors(df_mun, total_to_select, MAX_ITERATION = 10):\n",
        "    \"\"\"\n",
        "    Sample sectors by type (\"URBAN\" or \"RURAL\") from a specified municipality, \n",
        "    trying to avoid overlapping between the clusters generated by each sector selected.\n",
        "    \"\"\"\n",
        "    df_mun_urban, df_mun_rural = split_sectors_by_type(df_mun)\n",
        "    selected_sectors = gpd.GeoDataFrame(None, crs = df_mun.crs) # Create empty GeoDataFrame.\n",
        "    \n",
        "    for i in range(1, MAX_ITERATION + 1):\n",
        "        sel_urban = df_mun_urban.sample(n = total_to_select)\n",
        "        sel_rural = df_mun_rural.sample(n = total_to_select)\n",
        "        df_selected_sectors = gpd.GeoDataFrame(pd.concat([sel_urban, sel_rural], ignore_index = True), crs = selected_sectors.crs)\n",
        "        if not evaluate_overlapping(df_mun, df_selected_sectors):\n",
        "            return df_selected_sectors, i\n",
        "    \n",
        "    return df_selected_sectors, -1\n",
        "\n",
        "\n",
        "def calculate_total_sectors_per_type(df_mun, PROPORTION = 1/8):\n",
        "    \"\"\"\n",
        "    Calculate the total of sectors to be selected per type (\"URBAN\" or \"RURAL\").\n",
        "    \"\"\"\n",
        "    df_urban = df_mun[df_mun[\"TIPO\"] == \"URBAN\"]\n",
        "    df_rural = df_mun[df_mun[\"TIPO\"] == \"RURAL\"]\n",
        "\n",
        "    total_urban = df_urban.shape[0]\n",
        "    total_rural = df_rural.shape[0]\n",
        "    total_sectors = total_urban + total_rural\n",
        "    total_to_select = int(total_sectors * PROPORTION)\n",
        "\n",
        "    if total_urban < total_to_select or total_rural < total_to_select: \n",
        "        total_to_select = min(total_urban, total_rural)\n",
        "    return total_to_select\n",
        "\n",
        "\n",
        "def sample_sectors(df, MAX_ITERATION = 10):\n",
        "    \"\"\"\n",
        "    \"\"\"\n",
        "    dataset = gpd.GeoDataFrame(None, crs = geo.crs) # Create empty GeoDataFrame.\n",
        "    total_attempts_per_municipality = {}\n",
        "\n",
        "    for mun_code in df[\"Cod_municipio\"].unique():\n",
        "        df_mun = df[df[\"Cod_municipio\"] == mun_code]\n",
        "        total_to_select = calculate_total_sectors_per_type(df_mun)\n",
        "\n",
        "        selected_sectors, total_attempts = sample_municipality_sectors(df_mun, total_to_select, MAX_ITERATION)\n",
        "        total_attempts_per_municipality [mun_code] = total_attempts\n",
        "\n",
        "        #if total_attempts != -1:\n",
        "        print(f\"{mun_code}: total_attempts = {total_attempts}, Sectors selected = {selected_sectors.shape[0]}\")\n",
        "\n",
        "        dataset = gpd.GeoDataFrame(pd.concat([dataset, selected_sectors], ignore_index = True), crs = dataset.crs)\n",
        "    return dataset"
      ]
    },
    {
      "cell_type": "markdown",
      "source": [
        "## Plot Functions"
      ],
      "metadata": {
        "id": "0TOeO8pYWaPd"
      }
    },
    {
      "cell_type": "code",
      "execution_count": null,
      "metadata": {
        "id": "mjQXuR77VDNd"
      },
      "outputs": [],
      "source": [
        "def plot_cluster_coordinates(geo, sector_code, axis):\n",
        "    \"\"\"\n",
        "    Plot a map of the municipality which contains the sector represented by the sector_code, \n",
        "    showing the sector centroid and the vertices of the image square around it.\n",
        "\n",
        "    Usage example:\n",
        "            fig, axis = plt.subplots(1,1, figsize=(20,20))\n",
        "            plot_cluster_coordinates(geo, sector_code, axis)\n",
        "            axis.tick_params(\n",
        "                                axis='both', which='both',\n",
        "                                bottom=False, top=False, labelbottom=False,\n",
        "                                right=False, left=False, labelleft=False\n",
        "                            )\n",
        "            axis.legend()\n",
        "            plt.show()\n",
        "    \"\"\"\n",
        "    df_sector = geo[geo[\"Cod_setor\"] == sector_code]\n",
        "    mun_code = df_sector[\"Cod_municipio\"]\n",
        "    centroid = df_sector[\"centroid\"]\n",
        "    cluster = generate_centered_square_vertices(centroid)\n",
        "    \n",
        "    for i in range(4):\n",
        "      vertice_1 = cluster[i]\n",
        "      vertice_2 = cluster[(i + 1) % 4]\n",
        "      axis.plot([vertice_1.x, vertice_2.x], [vertice_1.y, vertice_2.y], alpha = 0.8, linewidth = 1, color = \"red\", label = \"vertices\")\n",
        "\n",
        "\n",
        "def plot_all_sector_centroids(df, axis):\n",
        "    \"\"\"\n",
        "    \"\"\"\n",
        "    df_urban = df[df[\"TIPO\"] == \"URBAN\"]\n",
        "    df_rural = df[df[\"TIPO\"] == \"RURAL\"]\n",
        "    axis.scatter(x = df_urban['lat'], y = df_urban['lon'], alpha = 0.8, linewidth = 0.5, s = 10, color = \"m\", label = \"Urban\")\n",
        "    axis.scatter(x = df_rural['lat'], y = df_rural['lon'], alpha = 0.8, linewidth = 0.5, s = 10, color = \"green\", label = \"Rural\")\n",
        "\n",
        "\n",
        "def plot_selected_sectors(df, df_selected, should_plot_cluster = False, should_plot_all_centroids = False):\n",
        "    fig, axis = plt.subplots(1,1, figsize=(20,20))\n",
        "\n",
        "    if should_plot_cluster:\n",
        "        for sector_code in df_selected[\"Cod_setor\"].unique():\n",
        "          plot_cluster_coordinates(df, sector_code, axis)\n",
        "\n",
        "    if should_plot_all_centroids:\n",
        "      plot_all_sector_centroids(df, axis)\n",
        "\n",
        "    df[\"geometry\"].plot(ax=axis, facecolor='gray',alpha=0.4, edgecolor='black', linewidth=0.1)\n",
        "\n",
        "    df_urban = df_selected[df_selected[\"TIPO\"] == \"URBAN\"]\n",
        "    df_rural = df_selected[df_selected[\"TIPO\"] == \"RURAL\"]\n",
        "    \n",
        "    axis.scatter(x = df_urban['lat'], y = df_urban['lon'], alpha = 0.8, linewidth = 0.5, s = 15, color = \"blue\", label = \"Urban\")\n",
        "    axis.scatter(x = df_rural['lat'], y = df_rural['lon'], alpha = 0.8, linewidth = 0.5, s = 15, color = \"orange\", label = \"Rural\")\n",
        "\n",
        "    axis.set_title(\"Selected Sectors.\", fontsize=17)\n",
        "    axis.tick_params(axis='both', which='both',\n",
        "                bottom=False, top=False, labelbottom=False,\n",
        "                right=False, left=False, labelleft=False\n",
        "                )\n",
        "    axis.legend()\n",
        "\n",
        "    from matplotlib.lines import Line2D\n",
        "    custom_lines = [Line2D([0], [0], marker='o', markerfacecolor = 'blue', markersize = 10, color = \"blue\", lw = 0),\n",
        "                    Line2D([0], [0], marker='o', markerfacecolor = 'orange', markersize = 10, color = \"orange\", lw = 0),\n",
        "                    Line2D([0], [0], color = \"red\", lw=4),\n",
        "                    Line2D([0], [0], marker='o', markerfacecolor = 'm', markersize = 10, color = \"m\", lw = 0),\n",
        "                    Line2D([0], [0], marker='o', markerfacecolor = 'green', markersize = 10, color = \"green\", lw = 0)]\n",
        "\n",
        "    axis.legend(custom_lines, [\"Selected Urban\", \"Selected Rural\", \"Cluster boundaries\", \"All urban sector centroids\", \"All rural sector centroids\"])\n",
        "\n",
        "\n",
        "def plot_municipality_selected_sectors(df, df_selected, cod_mun, should_plot_cluster = False, should_plot_all_centroids = False):\n",
        "    df_mun = df[df[\"Cod_municipio\"] == cod_mun]\n",
        "    df_selected_mun = df_selected[df_selected[\"Cod_municipio\"] == cod_mun]\n",
        "    plot_selected_sectors(df_mun, df_selected_mun, should_plot_cluster, should_plot_all_centroids)"
      ]
    },
    {
      "cell_type": "markdown",
      "source": [
        "## Execution"
      ],
      "metadata": {
        "id": "vSZioBYHWgfl"
      }
    },
    {
      "cell_type": "markdown",
      "source": [
        "cod_mund - quantidade selecionada - status\n",
        "- 2700102 - 4 - sempre falha, porque os setores urbanos estão muito próximos\n",
        "- 2700904 - 2 - passa normalmente\n",
        "- 2701506 - 2 - passa normalmente\n",
        "- 2701803 - 2 - passa normalmente\n",
        "- 2703403 - 0 - o município contém menos de 8 setores\n",
        "- 2703700 - 0 - o município contém menos de 8 setores\n",
        "- 3546256 - 0 - o município contém menos de 8 setores\n",
        "- 2910800 - 154 - não consegue selecionar sem overlap\n",
        "- 2700300 - 58 - não consegue selecionar sem overlap"
      ],
      "metadata": {
        "id": "tAaIwnMQZO2r"
      }
    },
    {
      "cell_type": "code",
      "source": [
        "# 2700300, 2910800, 3546256, 2700102\n",
        "df_test = geo[geo[\"Cod_municipio\"].isin([2700300, 2910800, 3546256, 2700102, 2700904, 2701506, 2701803, 2703403, 2703700])]\n",
        "dataset = sample_sectors(df_test, MAX_ITERATION = 5)"
      ],
      "metadata": {
        "colab": {
          "base_uri": "https://localhost:8080/"
        },
        "id": "ArI7vemMuLQO",
        "outputId": "f4453612-9ff1-447b-fb4a-25a01956547a"
      },
      "execution_count": null,
      "outputs": [
        {
          "output_type": "stream",
          "name": "stdout",
          "text": [
            "2700102: total_attempts = -1, Sectors selected = 4\n",
            "2700300: total_attempts = -1, Sectors selected = 58\n",
            "2700904: total_attempts = 1, Sectors selected = 2\n",
            "2701506: total_attempts = 1, Sectors selected = 2\n",
            "2701803: total_attempts = 3, Sectors selected = 2\n",
            "2703403: total_attempts = 1, Sectors selected = 0\n",
            "2703700: total_attempts = 1, Sectors selected = 0\n",
            "2910800: total_attempts = -1, Sectors selected = 154\n",
            "3546256: total_attempts = 1, Sectors selected = 0\n"
          ]
        }
      ]
    },
    {
      "cell_type": "code",
      "source": [
        "df_test.groupby(\"Cod_municipio\")[\"TIPO\"].value_counts()"
      ],
      "metadata": {
        "colab": {
          "base_uri": "https://localhost:8080/"
        },
        "id": "oFMMb6htY8Ew",
        "outputId": "1271d849-bc3f-455b-c1fb-3a936bb3b70b"
      },
      "execution_count": null,
      "outputs": [
        {
          "output_type": "execute_result",
          "data": {
            "text/plain": [
              "Cod_municipio  TIPO \n",
              "2700102        RURAL    18\n",
              "               URBAN     5\n",
              "Name: TIPO, dtype: int64"
            ]
          },
          "metadata": {},
          "execution_count": 124
        }
      ]
    },
    {
      "cell_type": "code",
      "execution_count": null,
      "metadata": {
        "id": "wccAsXvqVDNd",
        "outputId": "b0aee77b-7ef3-417f-a678-3c989fe2cc35",
        "colab": {
          "base_uri": "https://localhost:8080/"
        }
      },
      "outputs": [
        {
          "output_type": "execute_result",
          "data": {
            "text/plain": [
              "Cod_municipio  TIPO \n",
              "2700102        RURAL    2\n",
              "               URBAN    2\n",
              "Name: TIPO, dtype: int64"
            ]
          },
          "metadata": {},
          "execution_count": 122
        }
      ],
      "source": [
        "dataset.groupby(\"Cod_municipio\")[\"TIPO\"].value_counts()"
      ]
    },
    {
      "cell_type": "code",
      "source": [
        "plot_municipality_selected_sectors(geo, dataset, 2700300, True, True)"
      ],
      "metadata": {
        "colab": {
          "base_uri": "https://localhost:8080/",
          "height": 1000
        },
        "id": "QETwDKHjKUqo",
        "outputId": "76ab0998-2954-4c00-a602-e9fb41452686"
      },
      "execution_count": null,
      "outputs": [
        {
          "output_type": "display_data",
          "data": {
            "text/plain": [
              "<Figure size 1440x1440 with 1 Axes>"
            ],
            "image/png": "[encoded data removed]"
          },
          "metadata": {}
        }
      ]
    },
    {
      "cell_type": "code",
      "execution_count": null,
      "metadata": {
        "id": "Cbv7GqCfVDNe",
        "outputId": "c22782ac-806b-41a9-8893-12bcca5c6c20",
        "colab": {
          "base_uri": "https://localhost:8080/",
          "height": 165
        }
      },
      "outputs": [
        {
          "output_type": "error",
          "ename": "NameError",
          "evalue": "ignored",
          "traceback": [
            "\u001b[0;31m---------------------------------------------------------------------------\u001b[0m",
            "\u001b[0;31mNameError\u001b[0m                                 Traceback (most recent call last)",
            "\u001b[0;32m<ipython-input-72-f342c311edba>\u001b[0m in \u001b[0;36m<module>\u001b[0;34m\u001b[0m\n\u001b[0;32m----> 1\u001b[0;31m \u001b[0mplot_selected\u001b[0m\u001b[0;34m(\u001b[0m\u001b[0mgeo\u001b[0m\u001b[0;34m,\u001b[0m \u001b[0mdataset\u001b[0m\u001b[0;34m)\u001b[0m\u001b[0;34m\u001b[0m\u001b[0;34m\u001b[0m\u001b[0m\n\u001b[0m",
            "\u001b[0;31mNameError\u001b[0m: name 'plot_selected' is not defined"
          ]
        }
      ],
      "source": [
        "plot_selected(geo, dataset)"
      ]
    },
    {
      "cell_type": "markdown",
      "metadata": {
        "id": "JJAwcWL7VDNe"
      },
      "source": [
        "Agora, devemos analisar se os setores selecionados não estão muito próximos um do outro, checando o caso de cada município."
      ]
    },
    {
      "cell_type": "markdown",
      "source": [
        "- No caso de municípios em que não seja possível remover os overlaps e eles sejam pequenos, seguir com a seleção;\n",
        "- Caso o overlap seja muito significativo, tratar como um único cluster, fazendo a média dos indicadores dos setores que compõem aquele cluster;\n",
        "    *   opção 1: não alterar a quantidade de rurais que são selecionados, considerando que o desbalanceamento entre urbano/rural não será tão grande no final\n",
        "    *   opção 2: tentar encaixar o máximo de clusters urbanos para setores agrupados, diminuindo o desbalanceamento\n",
        "- Tentar pegar clusters que englobem uma boa parte do municipio"
      ],
      "metadata": {
        "id": "5j2RrV6wzkSo"
      }
    },
    {
      "cell_type": "code",
      "source": [
        "print(\"GitHub test\")"
      ],
      "metadata": {
        "id": "W2LhDXHtciSz",
        "outputId": "53cebc58-142b-44c4-990b-d2d89529407a",
        "colab": {
          "base_uri": "https://localhost:8080/"
        }
      },
      "execution_count": 5,
      "outputs": [
        {
          "output_type": "stream",
          "name": "stdout",
          "text": [
            "GitHub test\n"
          ]
        }
      ]
    }
  ],
  "metadata": {
    "kernelspec": {
      "display_name": "Python 3.10.5 64-bit",
      "language": "python",
      "name": "python3"
    },
    "language_info": {
      "codemirror_mode": {
        "name": "ipython",
        "version": 3
      },
      "file_extension": ".py",
      "mimetype": "text/x-python",
      "name": "python",
      "nbconvert_exporter": "python",
      "pygments_lexer": "ipython3",
      "version": "3.10.5"
    },
    "orig_nbformat": 4,
    "vscode": {
      "interpreter": {
        "hash": "85ba54f2cfced04a6451b62ef08c6e4e4c15a74d4bb427d61c5073fee890fdff"
      }
    },
    "colab": {
      "provenance": [],
      "collapsed_sections": [],
      "toc_visible": true,
      "include_colab_link": true
    }
  },
  "nbformat": 4,
  "nbformat_minor": 0
}